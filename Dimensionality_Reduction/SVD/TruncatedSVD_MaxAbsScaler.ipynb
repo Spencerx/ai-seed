{
 "cells": [
  {
   "cell_type": "markdown",
   "metadata": {},
   "source": [
    "# TruncatedSVD with MaxAbsScaler"
   ]
  },
  {
   "cell_type": "markdown",
   "metadata": {},
   "source": [
    "This code template is for simple TruncatedSVD in python for dimensionality reduction technique with MaxAbsScaler feature scaling. Contrary to PCA, this estimator does not center the data before computing the singular value decomposition. "
   ]
  },
  {
   "cell_type": "markdown",
   "metadata": {},
   "source": [
    "### Coming Soon"
   ]
  }
 ],
 "metadata": {
  "language_info": {
   "name": "python"
  }
 },
 "nbformat": 4,
 "nbformat_minor": 2
}
