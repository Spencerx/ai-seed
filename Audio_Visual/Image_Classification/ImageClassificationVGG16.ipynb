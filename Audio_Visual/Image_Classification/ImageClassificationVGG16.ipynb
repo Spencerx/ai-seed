{
 "cells": [
  {
   "cell_type": "markdown",
   "id": "d7f03371",
   "metadata": {},
   "source": [
    "<img src=\"https://cdn.siberian.dev/siberian.png\" alt=\"Siberian Logo\">"
   ]
  },
  {
   "cell_type": "markdown",
   "metadata": {},
   "source": [
    "### Image Classification Using VGG16"
   ]
  },
  {
   "cell_type": "markdown",
   "metadata": {},
   "source": [
    "### The Image Classification task using Transfer Learning Technique. For this task in this template, VGG-16 pre-trained Deep Neural Network Architecture is Utilized from Tensorflow Library. The network is 16 layers deep."
   ]
  },
  {
   "cell_type": "markdown",
   "metadata": {},
   "source": [
    "## Coming Soon"
   ]
  }
 ],
 "metadata": {
  "language_info": {
   "name": "python"
  }
 },
 "nbformat": 4,
 "nbformat_minor": 2
}
