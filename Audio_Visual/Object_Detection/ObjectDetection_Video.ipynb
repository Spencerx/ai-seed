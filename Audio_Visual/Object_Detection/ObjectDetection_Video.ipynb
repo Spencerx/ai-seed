{
 "cells": [
  {
   "cell_type": "markdown",
   "id": "f7b7fb7f",
   "metadata": {},
   "source": [
    "<img src=\"https://cdn.siberian.dev/siberian.png\" alt=\"Siberian Logo\">"
   ]
  },
  {
   "attachments": {},
   "cell_type": "markdown",
   "metadata": {},
   "source": [
    "Object Detection using OpenCV In Video"
   ]
  },
  {
   "cell_type": "markdown",
   "metadata": {},
   "source": [
    "This Code Template is for Object Detection through webcam video capture using the OpenCV library in python. This technique draws a boundary or a bounding box around the target object and may also include its target label."
   ]
  },
  {
   "cell_type": "markdown",
   "metadata": {},
   "source": [
    "### **Required Packages**"
   ]
  },
  {
   "cell_type": "code",
   "execution_count": null,
   "metadata": {},
   "outputs": [],
   "source": [
    "!pip install opencv-python"
   ]
  },
  {
   "cell_type": "code",
   "execution_count": 1,
   "metadata": {},
   "outputs": [],
   "source": [
    "import os\n",
    "import cv2\n",
    "import numpy as np\n",
    "import matplotlib.pyplot as plt\n",
    "import imutils\n",
    "from imutils.video import VideoStream\n",
    "import time"
   ]
  },
  {
   "cell_type": "markdown",
   "metadata": {},
   "source": [
    "## **Initialization**"
   ]
  },
  {
   "cell_type": "markdown",
   "metadata": {},
   "source": [
    "### Image Labels\n",
    "\n",
    "Here, the COCO dataset is used for image labeling since the model YOLO is trained on it. This dataset is popular for Object Detection and constitutes 80 labels including oven, toaster, bench, car, etc.\n",
    "\n",
    "The file is downloadable at [coco.names](https://opencv-tutorial.readthedocs.io/en/latest/_downloads/a9fb13cbea0745f3d11da9017d1b8467/coco.names)"
   ]
  },
  {
   "cell_type": "code",
   "execution_count": 2,
   "metadata": {},
   "outputs": [],
   "source": [
    "classFile = '' # Path to labels"
   ]
  },
  {
   "cell_type": "code",
   "execution_count": 3,
   "metadata": {},
   "outputs": [],
   "source": [
    "classes = []\n",
    "with open(classFile, 'rt') as f:\n",
    "    classes = f.read().rstrip('\\n').split('\\n')"
   ]
  },
  {
   "cell_type": "markdown",
   "metadata": {},
   "source": [
    "### Model \n",
    "OpenCV uses the function <Code>cv2.dnn.readNet()</Code> to load a pre-trained weights and network configuration of supported format and build object detection model. This function automatically detects an origin framework of trained model and calls an appropriate function such readNetFromCaffe, readNetFromTensorflow, readNetFromTorch or readNetFromDarknet. \n",
    "\n",
    "#### Model Tuning Parameters\n",
    "1. **model**: const String &  \t\n",
    ">Binary file contains trained weights. \n",
    "\n",
    "2. **config**: const String &\n",
    ">Text file contains network configuration\n",
    "\n",
    "3. **framework**: const String & \n",
    ">Explicit framework name tag to determine a format.\n",
    "\n",
    "More  details at the [API](https://docs.opencv.org/4.5.1/d6/d0f/group__dnn.html)\n",
    "\n",
    "#### YOLO\n",
    "In this tutorial, the model used is YOLO — You Only Look Once. It is an extremely fast multi object detection algorithm which uses convolutional neural network (CNN) to detect and identify objects.\n",
    "\n",
    ">**config_path**: [YOLO Configuration File](https://opencv-tutorial.readthedocs.io/en/latest/_downloads/10e685aad953495a95c17bfecd1649e5/yolov3.cfg)\n",
    "\n",
    ">**weights_path**: [YOLO Weights](https://pjreddie.com/media/files/yolov3.weights)"
   ]
  },
  {
   "cell_type": "markdown",
   "metadata": {},
   "source": [
    "Paths to configuration and weight files"
   ]
  },
  {
   "cell_type": "code",
   "execution_count": 4,
   "metadata": {},
   "outputs": [],
   "source": [
    "config_path = '' # configuration path\n",
    "weights_path = '' # weights path"
   ]
  },
  {
   "cell_type": "code",
   "execution_count": 5,
   "metadata": {},
   "outputs": [],
   "source": [
    "net = cv2.dnn.readNet(config_path, weights_path)\n",
    "net.setPreferableBackend(cv2.dnn.DNN_BACKEND_OPENCV)\n",
    "\n",
    "# determine the output layer\n",
    "layer_names = net.getLayerNames()\n",
    "output_layers = [layer_names[i[0] - 1] for i in net.getUnconnectedOutLayers()]"
   ]
  },
  {
   "cell_type": "markdown",
   "metadata": {},
   "source": [
    "### BLOB\n",
    "OpenCv object detection models take input images as BLOBs. A BLOB is a binary large object (BLOB) is a collection of binary data stored as a single entity.\n",
    "\n",
    "<Code>cv2.dnn.blobFromImage()</Code> \n",
    "creates 4-dimensional blob from image. Optionally resizes and crops image from center, subtract mean values, scales values by scalefactor, swap Blue and Red channels.\n",
    "\n",
    "#### Parameters\n",
    "\n",
    "1. **image**: InputArray \t\n",
    ">input image (with 1-, 3- or 4-channels).\n",
    "\n",
    "2. **size**: const Size &\n",
    ">spatial size for output image\n",
    "\n",
    "\n",
    "3. **scalefactor**:\tdouble \n",
    ">multiplier for image values.\n",
    "\n",
    "4. **swapRB**: bool \n",
    ">flag which indicates that swap first and last channels in 3-channel image is necessary.\n",
    "\n",
    "5. **crop**: bool \t\n",
    ">flag which indicates whether image will be cropped after resize or not\n",
    "\n",
    "\n",
    "More details at the [API](https://docs.opencv.org/4.5.1/d6/d0f/group__dnn.html)"
   ]
  },
  {
   "cell_type": "markdown",
   "metadata": {},
   "source": [
    "## **Inference**\n",
    "The input video stream is captured through webcam and each frame is processed through the Following code section [[Reference](https://opencv-tutorial.readthedocs.io/en/latest/yolo/yolo.html)] and draws bounding box and a corresponding confidence score around an object. Confidence score is the probability that a bounding box contains an object. \n",
    "\n",
    "<Code>cv.dnn.NMSBoxes</Code> performs non maximum suppression given boxes and corresponding scores.\n",
    "\n",
    "#### Parameters\n",
    "1. **bboxes**: const std::vector< Rect > &\n",
    ">a set of bounding boxes to apply NMS.\n",
    "2. **scores**: \tconst std::vector< float > & \n",
    ">a set of corresponding confidences.\n",
    "3. **score_threshold**: const float \n",
    ">a threshold used to filter boxes by score.\n",
    "4. **nms_threshold**: \tconst float \n",
    ">a threshold used in non maximum suppression.\n",
    "\n",
    "More details at the [API](https://docs.opencv.org/4.5.1/d6/d0f/group__dnn.html)"
   ]
  },
  {
   "cell_type": "code",
   "execution_count": 6,
   "metadata": {},
   "outputs": [
    {
     "name": "stdout",
     "output_type": "stream",
     "text": [
      "[INFO] starting video stream...\n"
     ]
    }
   ],
   "source": [
    "# initialize the video stream and allow the camera sensor to warm up\n",
    "print(\"[INFO] starting video stream...\")\n",
    "vs = VideoStream(src=0).start()\n",
    "time.sleep(2.0)\n",
    "\n",
    "while True:\n",
    "    # grab the frame from the threaded video stream and resize it\n",
    "    # to have a maximum width of 400 pixels\n",
    "    frame = vs.read()\n",
    "    frame = imutils.resize(frame, width=400)\n",
    "\n",
    "    boxes = []\n",
    "    confidences = []\n",
    "    classIDs = []\n",
    "\n",
    "    # grab the frame dimensions and convert it to a blob\n",
    "    (h, w) = frame.shape[:2]\n",
    "\n",
    "    blob = cv2.dnn.blobFromImage(image = frame, \n",
    "                             scalefactor = 1/255.0, \n",
    "                             size = (256, 256), \n",
    "                             swapRB=True, \n",
    "                             crop=False)\n",
    "\n",
    "    # pass the blob through the network and obtain the detections and\n",
    "    # predictions\n",
    "    net.setInput(blob)\n",
    "    outputs = net.forward(output_layers)\n",
    "\n",
    "    # random colors for bounding box\n",
    "    colors = np.random.randint(0, 255, size=(len(classes), 3), dtype='uint8') #np.full((len(classes), 3), 255, dtype='uint8')\n",
    "\n",
    "    # Bounding Box and Confidence Score\n",
    "    for output in outputs:\n",
    "        for detection in output:\n",
    "            scores = detection[5:]\n",
    "            classID = np.argmax(scores)\n",
    "            confidence = scores[classID]\n",
    "            if confidence > 0.5:\n",
    "                box = detection[:4] * np.array([w, h, w, h])\n",
    "                (centerX, centerY, width, height) = box.astype(\"int\")\n",
    "                x = int(centerX - (width / 2))\n",
    "                y = int(centerY - (height / 2))\n",
    "                box = [x, y, int(width), int(height)]\n",
    "                boxes.append(box)\n",
    "                confidences.append(float(confidence))\n",
    "                classIDs.append(classID)\n",
    "\n",
    "    # Non Maximum Suppression \n",
    "    indices = cv2.dnn.NMSBoxes(bboxes = boxes, \n",
    "                            scores = confidences, \n",
    "                            score_threshold = 0.4, \n",
    "                            nms_threshold  = 0.3)\n",
    "    if len(indices) > 0:\n",
    "        for i in indices.flatten():\n",
    "            (x, y) = (boxes[i][0], boxes[i][1])\n",
    "            (w, h) = (boxes[i][2], boxes[i][3])\n",
    "            color = [int(c) for c in colors[classIDs[i]]]\n",
    "            cv2.rectangle(frame, (x, y), (x + w, y + h), color, 2)\n",
    "            text = \"{}: {:.4f}\".format(classes[classIDs[i]], confidences[i])\n",
    "            cv2.putText(frame, text, (x, y - 5), cv2.FONT_HERSHEY_DUPLEX, 0.7, color, 2)\n",
    "\n",
    "    # show the output frame\n",
    "    cv2.imshow(\"Frame\", frame)\n",
    "    key = cv2.waitKey(1) & 0xFF\n",
    "\n",
    "    # if the `q` key was pressed, break from the loop\n",
    "    if key == ord(\"q\"):\n",
    "        break\n",
    "# do a bit of cleanup\n",
    "cv2.destroyAllWindows()\n",
    "vs.stop()"
   ]
  },
  {
   "cell_type": "markdown",
   "metadata": {},
   "source": [
    "#### Creator: Vamsi Mukkamala , Github: [Profile](https://github.com/vmc99)"
   ]
  }
 ],
 "metadata": {
  "kernelspec": {
   "display_name": "base",
   "language": "python",
   "name": "python3"
  },
  "language_info": {
   "codemirror_mode": {
    "name": "ipython",
    "version": 3
   },
   "file_extension": ".py",
   "mimetype": "text/x-python",
   "name": "python",
   "nbconvert_exporter": "python",
   "pygments_lexer": "ipython3",
   "version": "3.9.7 (default, Sep 16 2021, 16:59:28) [MSC v.1916 64 bit (AMD64)]"
  },
  "vscode": {
   "interpreter": {
    "hash": "8c0a1a6abd2570ddb558ba885bd969815b6cf26d3a7f4385a70f848cf0dfced3"
   }
  }
 },
 "nbformat": 4,
 "nbformat_minor": 2
}
