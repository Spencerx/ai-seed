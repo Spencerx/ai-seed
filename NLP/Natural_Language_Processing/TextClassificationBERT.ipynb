{
 "cells": [
  {
   "cell_type": "markdown",
   "id": "468f6109",
   "metadata": {},
   "source": [
    "<img src=\"https://cdn.siberian.dev/siberian.png\" alt=\"Siberian Logo\">"
   ]
  },
  {
   "cell_type": "markdown",
   "metadata": {},
   "source": [
    "### Text Classification Using BERT"
   ]
  },
  {
   "cell_type": "markdown",
   "metadata": {},
   "source": [
    "### Text Classification task using  Bidirectional Encoder Representations from Transformers(BERT). BERT makes use of a Transformer, an attention mechanism that learns contextual relations between words (or sub-words) in a text."
   ]
  },
  {
   "cell_type": "markdown",
   "metadata": {},
   "source": [
    "## Coming Soon"
   ]
  }
 ],
 "metadata": {
  "language_info": {
   "name": "python"
  }
 },
 "nbformat": 4,
 "nbformat_minor": 2
}
