{
 "cells": [
  {
   "cell_type": "markdown",
   "id": "d1f01b07",
   "metadata": {},
   "source": [
    "<img src=\"https://cdn.siberian.dev/siberian.png\" alt=\"Siberian Logo\">"
   ]
  },
  {
   "cell_type": "markdown",
   "metadata": {},
   "source": [
    "Text Summarization using Pegasus"
   ]
  },
  {
   "cell_type": "markdown",
   "metadata": {},
   "source": [
    "This Code template is for text summarization using the Transformer based model Pegasus from the HugginFace library. PEGASUS uses an encoder-decoder model for sequence-to-sequence learning."
   ]
  },
  {
   "cell_type": "markdown",
   "metadata": {},
   "source": [
    "## Coming Soon"
   ]
  }
 ],
 "metadata": {
  "language_info": {
   "name": "python"
  }
 },
 "nbformat": 4,
 "nbformat_minor": 2
}
