{
 "cells": [
  {
   "cell_type": "markdown",
   "id": "4050e6ce",
   "metadata": {},
   "source": [
    "<img src=\"https://cdn.siberian.dev/siberian.png\" alt=\"Siberian Logo\">"
   ]
  },
  {
   "cell_type": "markdown",
   "metadata": {},
   "source": [
    "### Time series analysis Using AutoRegressive Moving Average"
   ]
  },
  {
   "cell_type": "markdown",
   "metadata": {},
   "source": [
    "### Time Series Analysis and Forecasting to make scientific predictions based on historical time-stamped data using the AutoRegression MovingAverage algorithm. It is a model that is a combination of the AR and MA models. The impact of previous lags, along with the residuals, is considered for forecasting the future values of the time series. "
   ]
  },
  {
   "cell_type": "markdown",
   "metadata": {},
   "source": [
    "## Coming Soon"
   ]
  }
 ],
 "metadata": {
  "language_info": {
   "name": "python"
  }
 },
 "nbformat": 4,
 "nbformat_minor": 2
}
